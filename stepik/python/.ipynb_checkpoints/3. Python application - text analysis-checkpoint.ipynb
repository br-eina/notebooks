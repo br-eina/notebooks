{
 "cells": [
  {
   "cell_type": "markdown",
   "metadata": {},
   "source": [
    "# Стандартные методы и функции для строк"
   ]
  },
  {
   "cell_type": "markdown",
   "metadata": {},
   "source": [
    "##    in, find, index, starts/ends, rfind"
   ]
  },
  {
   "cell_type": "markdown",
   "metadata": {},
   "source": [
    "Проверка вхождения строки в строку:"
   ]
  },
  {
   "cell_type": "code",
   "execution_count": 1,
   "metadata": {},
   "outputs": [
    {
     "name": "stdout",
     "output_type": "stream",
     "text": [
      "True\n",
      "False\n"
     ]
    }
   ],
   "source": [
    "print('abc' in 'abcba')\n",
    "print('abce' in 'abcba')"
   ]
  },
  {
   "cell_type": "markdown",
   "metadata": {},
   "source": [
    "Если интересует место, где именно строка начинает входить в строку:"
   ]
  },
  {
   "cell_type": "code",
   "execution_count": 2,
   "metadata": {},
   "outputs": [
    {
     "name": "stdout",
     "output_type": "stream",
     "text": [
      "1\n"
     ]
    }
   ],
   "source": [
    "print('cabcd'.find('abc')) # Индекс первого вхождения или -1"
   ]
  },
  {
   "cell_type": "code",
   "execution_count": 3,
   "metadata": {},
   "outputs": [
    {
     "name": "stdout",
     "output_type": "stream",
     "text": [
      "-1\n"
     ]
    }
   ],
   "source": [
    "print('cabcd'.find('aec'))"
   ]
  },
  {
   "cell_type": "code",
   "execution_count": 4,
   "metadata": {},
   "outputs": [
    {
     "name": "stdout",
     "output_type": "stream",
     "text": [
      "S.find(sub[, start[, end]]) -> int\n",
      "\n",
      "Return the lowest index in S where substring sub is found,\n",
      "such that sub is contained within S[start:end].  Optional\n",
      "arguments start and end are interpreted as in slice notation.\n",
      "\n",
      "Return -1 on failure.\n"
     ]
    }
   ],
   "source": [
    "print(str.find.__doc__)"
   ]
  },
  {
   "cell_type": "code",
   "execution_count": 5,
   "metadata": {},
   "outputs": [
    {
     "name": "stdout",
     "output_type": "stream",
     "text": [
      "1\n"
     ]
    },
    {
     "ename": "ValueError",
     "evalue": "substring not found",
     "output_type": "error",
     "traceback": [
      "\u001b[1;31m---------------------------------------------------------------------------\u001b[0m",
      "\u001b[1;31mValueError\u001b[0m                                Traceback (most recent call last)",
      "\u001b[1;32m<ipython-input-5-2d5b3d04cf2b>\u001b[0m in \u001b[0;36m<module>\u001b[1;34m\u001b[0m\n\u001b[0;32m      1\u001b[0m \u001b[0mprint\u001b[0m\u001b[1;33m(\u001b[0m\u001b[1;34m'cabcd'\u001b[0m\u001b[1;33m.\u001b[0m\u001b[0mindex\u001b[0m\u001b[1;33m(\u001b[0m\u001b[1;34m'abc'\u001b[0m\u001b[1;33m)\u001b[0m\u001b[1;33m)\u001b[0m \u001b[1;31m# Индекс первого вхождения или ValueError\u001b[0m\u001b[1;33m\u001b[0m\u001b[0m\n\u001b[1;32m----> 2\u001b[1;33m \u001b[0mprint\u001b[0m\u001b[1;33m(\u001b[0m\u001b[1;34m'cabcd'\u001b[0m\u001b[1;33m.\u001b[0m\u001b[0mindex\u001b[0m\u001b[1;33m(\u001b[0m\u001b[1;34m'aec'\u001b[0m\u001b[1;33m)\u001b[0m\u001b[1;33m)\u001b[0m\u001b[1;33m\u001b[0m\u001b[0m\n\u001b[0m",
      "\u001b[1;31mValueError\u001b[0m: substring not found"
     ]
    }
   ],
   "source": [
    "print('cabcd'.index('abc')) # Индекс первого вхождения или ValueError\n",
    "print('cabcd'.index('aec'))"
   ]
  },
  {
   "cell_type": "code",
   "execution_count": 6,
   "metadata": {},
   "outputs": [
    {
     "name": "stdout",
     "output_type": "stream",
     "text": [
      "True\n"
     ]
    }
   ],
   "source": [
    "s = 'The man in black fled across the desert, and the gunslinger followed'\n",
    "print(s.startswith('The man in black'))"
   ]
  },
  {
   "cell_type": "code",
   "execution_count": 7,
   "metadata": {},
   "outputs": [
    {
     "name": "stdout",
     "output_type": "stream",
     "text": [
      "S.startswith(prefix[, start[, end]]) -> bool\n",
      "\n",
      "Return True if S starts with the specified prefix, False otherwise.\n",
      "With optional start, test S beginning at that position.\n",
      "With optional end, stop comparing S at that position.\n",
      "prefix can also be a tuple of strings to try.\n"
     ]
    }
   ],
   "source": [
    "print(str.startswith.__doc__)"
   ]
  },
  {
   "cell_type": "code",
   "execution_count": 9,
   "metadata": {},
   "outputs": [
    {
     "name": "stdout",
     "output_type": "stream",
     "text": [
      "True\n"
     ]
    }
   ],
   "source": [
    "print(s.startswith(('The woman', 'The dog', 'The man in black')))"
   ]
  },
  {
   "cell_type": "code",
   "execution_count": 10,
   "metadata": {},
   "outputs": [
    {
     "name": "stdout",
     "output_type": "stream",
     "text": [
      "True\n"
     ]
    }
   ],
   "source": [
    "s = 'image.png'\n",
    "print(s.endswith('.png'))"
   ]
  },
  {
   "cell_type": "markdown",
   "metadata": {},
   "source": [
    "`.count()` находит число непересекающихся вхождений:"
   ]
  },
  {
   "cell_type": "code",
   "execution_count": 12,
   "metadata": {},
   "outputs": [
    {
     "name": "stdout",
     "output_type": "stream",
     "text": [
      "2\n",
      "1\n"
     ]
    }
   ],
   "source": [
    "s = 'abacaba'\n",
    "print(s.count('aba'))\n",
    "\n",
    "s = 'ababa'\n",
    "print(s.count('aba'))"
   ]
  },
  {
   "cell_type": "markdown",
   "metadata": {},
   "source": [
    "Правосторонние аналоги функций:"
   ]
  },
  {
   "cell_type": "code",
   "execution_count": 13,
   "metadata": {},
   "outputs": [
    {
     "name": "stdout",
     "output_type": "stream",
     "text": [
      "4\n"
     ]
    }
   ],
   "source": [
    "s = 'abacaba'\n",
    "print(s.rfind('aba'))"
   ]
  },
  {
   "cell_type": "markdown",
   "metadata": {},
   "source": [
    "##      upper, lower, replace, split, strip, join"
   ]
  },
  {
   "cell_type": "markdown",
   "metadata": {},
   "source": [
    "`upper(), lower()`"
   ]
  },
  {
   "cell_type": "code",
   "execution_count": 14,
   "metadata": {},
   "outputs": [
    {
     "name": "stdout",
     "output_type": "stream",
     "text": [
      "the man in black fled across the desert, and the gunslinger followed\n",
      "THE MAN IN BLACK FLED ACROSS THE DESERT, AND THE GUNSLINGER FOLLOWED\n"
     ]
    }
   ],
   "source": [
    "s = 'The man in black fled across the desert, and the gunslinger followed'\n",
    "print(s.lower())\n",
    "print(s.upper())"
   ]
  },
  {
   "cell_type": "code",
   "execution_count": 15,
   "metadata": {},
   "outputs": [
    {
     "name": "stdout",
     "output_type": "stream",
     "text": [
      "2\n",
      "3\n"
     ]
    }
   ],
   "source": [
    "print(s.count('the'))\n",
    "print(s.lower().count('the'))"
   ]
  },
  {
   "cell_type": "markdown",
   "metadata": {},
   "source": [
    "`replace()`"
   ]
  },
  {
   "cell_type": "code",
   "execution_count": 17,
   "metadata": {},
   "outputs": [
    {
     "name": "stdout",
     "output_type": "stream",
     "text": [
      "1,2,3,4\n",
      "1, 2, 3, 4\n",
      "1, 2, 3,4\n"
     ]
    }
   ],
   "source": [
    "s = '1,2,3,4'\n",
    "print(s)\n",
    "print(s.replace(',', ', '))\n",
    "print(s.replace(',', ', ', 2))"
   ]
  },
  {
   "cell_type": "markdown",
   "metadata": {},
   "source": [
    "`split()`"
   ]
  },
  {
   "cell_type": "code",
   "execution_count": 20,
   "metadata": {},
   "outputs": [
    {
     "name": "stdout",
     "output_type": "stream",
     "text": [
      "['1', '2', '3', '4']\n",
      "['1', '2', '3 4']\n",
      "['1', '2', '3', '4']\n"
     ]
    }
   ],
   "source": [
    "s = '1 2 3 4'\n",
    "print(s.split())\n",
    "print(s.split(' ', 2))\n",
    "\n",
    "s = '1\\t\\t 2    3 \\n             4'\n",
    "print(s.split())\n"
   ]
  },
  {
   "cell_type": "markdown",
   "metadata": {},
   "source": [
    "`strip()`"
   ]
  },
  {
   "cell_type": "code",
   "execution_count": 21,
   "metadata": {},
   "outputs": [
    {
     "name": "stdout",
     "output_type": "stream",
     "text": [
      "'      1, 2, 3, 4'\n",
      "'1, 2, 3, 4                     '\n",
      "'1, 2, 3, 4'\n"
     ]
    }
   ],
   "source": [
    "s = '      1, 2, 3, 4                     '\n",
    "print(repr(s.rstrip()))\n",
    "print(repr(s.lstrip()))\n",
    "print(repr(s.strip()))"
   ]
  },
  {
   "cell_type": "code",
   "execution_count": 22,
   "metadata": {},
   "outputs": [
    {
     "name": "stdout",
     "output_type": "stream",
     "text": [
      "'_*__1, 2, 3, 4'\n",
      "'1, 2, 3, 4__*_'\n",
      "'1, 2, 3, 4'\n"
     ]
    }
   ],
   "source": [
    "s = '_*__1, 2, 3, 4__*_'\n",
    "print(repr(s.rstrip(\"*_\")))\n",
    "print(repr(s.lstrip(\"*_\")))\n",
    "print(repr(s.strip(\"*_\")))"
   ]
  },
  {
   "cell_type": "markdown",
   "metadata": {},
   "source": [
    "`join()` - принимает то, по чему можно проитерироваться (например `map object`). \n",
    "\n",
    "Элементы последовательности должны быть строками."
   ]
  },
  {
   "cell_type": "code",
   "execution_count": 23,
   "metadata": {},
   "outputs": [
    {
     "name": "stdout",
     "output_type": "stream",
     "text": [
      "'1 2 3 4 5'\n"
     ]
    }
   ],
   "source": [
    "numbers = map(str, [1, 2, 3, 4, 5])\n",
    "print(repr(' '.join(numbers)))"
   ]
  },
  {
   "cell_type": "markdown",
   "metadata": {},
   "source": [
    "##       format, f-строки"
   ]
  },
  {
   "cell_type": "code",
   "execution_count": 24,
   "metadata": {},
   "outputs": [
    {
     "name": "stdout",
     "output_type": "stream",
     "text": [
      "London is the capital of Great Britain\n",
      "Vaduz is the capital of Liechtenstein\n"
     ]
    }
   ],
   "source": [
    "capital = 'London is the capital of Great Britain'\n",
    "\n",
    "template = '{} is the capital of {}'\n",
    "print(template.format('London', 'Great Britain'))\n",
    "print(template.format('Vaduz', 'Liechtenstein'))"
   ]
  },
  {
   "cell_type": "markdown",
   "metadata": {},
   "source": [
    "Использование именованных аргументов:"
   ]
  },
  {
   "cell_type": "code",
   "execution_count": 25,
   "metadata": {},
   "outputs": [
    {
     "name": "stdout",
     "output_type": "stream",
     "text": [
      "London is the capital of Great Britain\n",
      "Vaduz is the capital of Liechtenstein\n"
     ]
    }
   ],
   "source": [
    "template = '{capital} is the capital of {country}'\n",
    "print(template.format(capital='London', country='Great Britain'))\n",
    "print(template.format(country='Liechtenstein', capital='Vaduz'))"
   ]
  },
  {
   "cell_type": "markdown",
   "metadata": {},
   "source": [
    "----------"
   ]
  },
  {
   "cell_type": "markdown",
   "metadata": {},
   "source": [
    "Благодаря форматированию можно обращаться к аттрибутам объекта:"
   ]
  },
  {
   "cell_type": "code",
   "execution_count": 26,
   "metadata": {},
   "outputs": [
    {
     "name": "stdout",
     "output_type": "stream",
     "text": [
      "Response from https://docs.python.org/3.5/ with 200\n",
      "Response from https://docs.python.org/3.5/random with 404\n"
     ]
    }
   ],
   "source": [
    "import requests\n",
    "template = 'Response from {0.url} with {0.status_code}'\n",
    "\n",
    "res = requests.get('https://docs.python.org/3.5/')\n",
    "print(template.format(res))\n",
    "\n",
    "res = requests.get('https://docs.python.org/3.5/random')\n",
    "print(template.format(res))"
   ]
  },
  {
   "cell_type": "markdown",
   "metadata": {},
   "source": [
    "Интересуют только 3 знака после запятой:"
   ]
  },
  {
   "cell_type": "code",
   "execution_count": 30,
   "metadata": {
    "scrolled": true
   },
   "outputs": [
    {
     "name": "stdout",
     "output_type": "stream",
     "text": [
      "0.6865281596172743\n",
      "0.687\n"
     ]
    }
   ],
   "source": [
    "from random import random\n",
    "\n",
    "x = random()\n",
    "print(x)\n",
    "print(\"{:.3}\".format(x))"
   ]
  },
  {
   "cell_type": "markdown",
   "metadata": {},
   "source": [
    "`f-строки`:"
   ]
  },
  {
   "cell_type": "code",
   "execution_count": 32,
   "metadata": {},
   "outputs": [
    {
     "name": "stdout",
     "output_type": "stream",
     "text": [
      "Russia: Moscow\n",
      "United States: Washington\n",
      "Canada: Ottawa\n",
      "Germany: Berlin\n",
      "France: Paris\n",
      "Great Britain: London\n"
     ]
    }
   ],
   "source": [
    "capital_country = {\"Russia\": \"Moscow\",\n",
    "                   \"United States\": \"Washington\",\n",
    "                   \"Canada\": \"Ottawa\",\n",
    "                   \"Germany\": \"Berlin\",\n",
    "                   \"France\": \"Paris\",\n",
    "                   \"Great Britain\": \"London\"}\n",
    "\n",
    "\n",
    "for country, capital in capital_country.items():\n",
    "    print(f\"{country}: {capital}\") # f-строка"
   ]
  },
  {
   "cell_type": "markdown",
   "metadata": {},
   "source": [
    "## Задача 1"
   ]
  },
  {
   "cell_type": "markdown",
   "metadata": {},
   "source": [
    "Вашей программе на вход подаются три строки `s, a, b`, состоящие из строчных латинских букв.\n",
    "\n",
    "За одну операцию вы можете заменить все вхождения строки `a` в строку `s` на строку `b`.\n",
    "\n",
    "Например, `s = \"abab\"`, `a = \"ab\"`, `b = \"ba\"`, тогда после выполнения одной операции строка `s` перейдет в строку `\"baba\"`, после выполнения двух и операций – в строку `\"bbaa\"`, и дальнейшие операции не будут изменять строку `s`.\n",
    "\n",
    "Необходимо узнать, после какого минимального количества операций в строке `s` не останется вхождений строки `a`. Если операций потребуется более 1000, выведите `Impossible`.\n",
    "\n",
    "Выведите одно число – минимальное число операций, после применения которых в строке `s` не останется вхождений строки `a`, или `Impossible`, если операций потребуется более 1000."
   ]
  },
  {
   "cell_type": "code",
   "execution_count": 34,
   "metadata": {},
   "outputs": [
    {
     "name": "stdout",
     "output_type": "stream",
     "text": [
      "S.replace(old, new[, count]) -> str\n",
      "\n",
      "Return a copy of S with all occurrences of substring\n",
      "old replaced by new.  If the optional argument count is\n",
      "given, only the first count occurrences are replaced.\n"
     ]
    }
   ],
   "source": [
    "print(str.replace.__doc__)"
   ]
  },
  {
   "cell_type": "code",
   "execution_count": 43,
   "metadata": {},
   "outputs": [
    {
     "name": "stdout",
     "output_type": "stream",
     "text": [
      "aabbcc\n",
      "aa\n",
      "aaa\n",
      "Impossible\n"
     ]
    }
   ],
   "source": [
    "def main():\n",
    "    s, a, b = input(), input(), input()\n",
    "\n",
    "    ans = 'Impossible'\n",
    "\n",
    "    if a not in s:\n",
    "        print(0)\n",
    "        return\n",
    "    elif a in b:\n",
    "        print(ans)\n",
    "        return\n",
    "\n",
    "    for i in range(1000):\n",
    "        new_s = s.replace(a, b)\n",
    "        if s == new_s:\n",
    "            ans = i\n",
    "            break\n",
    "        s = new_s\n",
    "    print(ans)\n",
    "\n",
    "main()"
   ]
  },
  {
   "cell_type": "code",
   "execution_count": 46,
   "metadata": {},
   "outputs": [
    {
     "name": "stdout",
     "output_type": "stream",
     "text": [
      "ababa\n",
      "a\n",
      "b\n",
      "1\n"
     ]
    }
   ],
   "source": [
    "s, a, b = input(), input(), input()\n",
    "\n",
    "ans = 'Impossible'\n",
    "\n",
    "if a not in s:\n",
    "    print(0)\n",
    "elif a in b:\n",
    "    print(ans)\n",
    "else:\n",
    "    for i in range(1000):\n",
    "        if s == s.replace(a, b):\n",
    "            ans = i\n",
    "            break\n",
    "        s = s.replace(a, b)\n",
    "    print(ans)"
   ]
  },
  {
   "cell_type": "markdown",
   "metadata": {},
   "source": [
    "## Задача 2"
   ]
  },
  {
   "cell_type": "markdown",
   "metadata": {},
   "source": [
    "Вашей программе на вход подаются две строки `s` и `t`, состоящие из строчных латинских букв.\n",
    "\n",
    "Выведите одно число – количество вхождений строки `t` в строку `s`.\n",
    "\n",
    "Пример:\n",
    "\n",
    "`s = \"abababa\"`\n",
    "\n",
    "`t = \"aba\"`\n",
    "\n",
    "Вхождения строки `t` в строку`s`:\n",
    "\n",
    "**aba**baba\n",
    "\n",
    "ab**aba**ba\n",
    "\n",
    "abab**aba**"
   ]
  },
  {
   "cell_type": "code",
   "execution_count": 47,
   "metadata": {},
   "outputs": [
    {
     "name": "stdout",
     "output_type": "stream",
     "text": [
      "S.startswith(prefix[, start[, end]]) -> bool\n",
      "\n",
      "Return True if S starts with the specified prefix, False otherwise.\n",
      "With optional start, test S beginning at that position.\n",
      "With optional end, stop comparing S at that position.\n",
      "prefix can also be a tuple of strings to try.\n"
     ]
    }
   ],
   "source": [
    "print(str.startswith.__doc__)"
   ]
  },
  {
   "cell_type": "code",
   "execution_count": 48,
   "metadata": {},
   "outputs": [
    {
     "data": {
      "text/plain": [
       "False"
      ]
     },
     "execution_count": 48,
     "metadata": {},
     "output_type": "execute_result"
    }
   ],
   "source": [
    "s = 'abba'\n",
    "s.startswith('b')"
   ]
  },
  {
   "cell_type": "code",
   "execution_count": 49,
   "metadata": {},
   "outputs": [
    {
     "name": "stdout",
     "output_type": "stream",
     "text": [
      "S.find(sub[, start[, end]]) -> int\n",
      "\n",
      "Return the lowest index in S where substring sub is found,\n",
      "such that sub is contained within S[start:end].  Optional\n",
      "arguments start and end are interpreted as in slice notation.\n",
      "\n",
      "Return -1 on failure.\n"
     ]
    }
   ],
   "source": [
    "print(str.find.__doc__)"
   ]
  },
  {
   "cell_type": "code",
   "execution_count": 55,
   "metadata": {},
   "outputs": [
    {
     "name": "stdout",
     "output_type": "stream",
     "text": [
      "5\n"
     ]
    }
   ],
   "source": [
    "s = 'aaaaa'\n",
    "t = 'a'\n",
    "\n",
    "count, i = 0, 0\n",
    "while s.find(t, i) != -1:\n",
    "    count += 1\n",
    "    i = s.find(t, i) + 1\n",
    "print(count)"
   ]
  },
  {
   "cell_type": "markdown",
   "metadata": {},
   "source": [
    "# Регулярные выражения"
   ]
  },
  {
   "cell_type": "markdown",
   "metadata": {},
   "source": [
    "##     Регулярки, сырые строки"
   ]
  },
  {
   "cell_type": "markdown",
   "metadata": {},
   "source": [
    "Регулярные выражения - одно из самых мощных средств поиска в текстовых документах.\n",
    "\n",
    "Базовая концепция - с помощью регулярок описываем шаблон, а потом можем проверить, подходит ли строка под шаблон. Или в тексте можно найти все подстроки, походящие под шаблон."
   ]
  },
  {
   "cell_type": "markdown",
   "metadata": {},
   "source": [
    "Что такое сырые строки и что их отличает от обычных:"
   ]
  },
  {
   "cell_type": "code",
   "execution_count": 58,
   "metadata": {},
   "outputs": [
    {
     "name": "stdout",
     "output_type": "stream",
     "text": [
      "hello\n",
      "\"world\n"
     ]
    }
   ],
   "source": [
    "x = 'hello\\n\"world'\n",
    "print(x)"
   ]
  },
  {
   "cell_type": "markdown",
   "metadata": {},
   "source": [
    "Чтобы указать интерпретатору, что все символу нужно использовать ровно в том же виде, в котором они указаны (сырая строка):"
   ]
  },
  {
   "cell_type": "code",
   "execution_count": 59,
   "metadata": {},
   "outputs": [
    {
     "name": "stdout",
     "output_type": "stream",
     "text": [
      "hello\\n\"world\n"
     ]
    }
   ],
   "source": [
    "x = r'hello\\n\"world' # raw\n",
    "print(x)"
   ]
  },
  {
   "cell_type": "markdown",
   "metadata": {},
   "source": [
    "Некоторые метасимволы регулярок используют `\\`, поэтому для описания шаблонов регулярок используются сырые строки."
   ]
  },
  {
   "cell_type": "markdown",
   "metadata": {},
   "source": [
    "##     "
   ]
  },
  {
   "cell_type": "code",
   "execution_count": null,
   "metadata": {},
   "outputs": [],
   "source": []
  }
 ],
 "metadata": {
  "kernelspec": {
   "display_name": "Python 3",
   "language": "python",
   "name": "python3"
  },
  "language_info": {
   "codemirror_mode": {
    "name": "ipython",
    "version": 3
   },
   "file_extension": ".py",
   "mimetype": "text/x-python",
   "name": "python",
   "nbconvert_exporter": "python",
   "pygments_lexer": "ipython3",
   "version": "3.6.6"
  },
  "toc": {
   "base_numbering": 1,
   "nav_menu": {},
   "number_sections": true,
   "sideBar": true,
   "skip_h1_title": false,
   "title_cell": "Table of Contents",
   "title_sidebar": "Contents",
   "toc_cell": false,
   "toc_position": {},
   "toc_section_display": true,
   "toc_window_display": false
  }
 },
 "nbformat": 4,
 "nbformat_minor": 2
}
